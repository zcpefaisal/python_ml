{
 "cells": [
  {
   "cell_type": "code",
   "execution_count": 4,
   "id": "d5ee4ca6",
   "metadata": {},
   "outputs": [],
   "source": [
    "import numpy as np"
   ]
  },
  {
   "cell_type": "markdown",
   "id": "5acc9978",
   "metadata": {},
   "source": [
    "# Vector Operations"
   ]
  },
  {
   "cell_type": "code",
   "execution_count": 20,
   "id": "f8cc07e8",
   "metadata": {},
   "outputs": [],
   "source": [
    "u = np.array([2,3,5,6]) # row vector"
   ]
  },
  {
   "cell_type": "code",
   "execution_count": 21,
   "id": "abda654c",
   "metadata": {},
   "outputs": [
    {
     "data": {
      "text/plain": [
       "array([2, 3, 5, 6])"
      ]
     },
     "execution_count": 21,
     "metadata": {},
     "output_type": "execute_result"
    }
   ],
   "source": [
    "u"
   ]
  },
  {
   "cell_type": "code",
   "execution_count": 22,
   "id": "cdb5cd18",
   "metadata": {},
   "outputs": [],
   "source": [
    "v = np.array([1,0,0,2]) # row vector"
   ]
  },
  {
   "cell_type": "code",
   "execution_count": 23,
   "id": "a5b80ad2",
   "metadata": {},
   "outputs": [
    {
     "data": {
      "text/plain": [
       "array([1, 0, 0, 2])"
      ]
     },
     "execution_count": 23,
     "metadata": {},
     "output_type": "execute_result"
    }
   ],
   "source": [
    "v"
   ]
  },
  {
   "cell_type": "code",
   "execution_count": 24,
   "id": "707e8280",
   "metadata": {},
   "outputs": [
    {
     "data": {
      "text/plain": [
       "array([3, 3, 5, 8])"
      ]
     },
     "execution_count": 24,
     "metadata": {},
     "output_type": "execute_result"
    }
   ],
   "source": [
    "# add two vector element wise\n",
    "u + v"
   ]
  },
  {
   "cell_type": "code",
   "execution_count": 26,
   "id": "b3e02e0a",
   "metadata": {},
   "outputs": [
    {
     "data": {
      "text/plain": [
       "array([ 2,  0,  0, 12])"
      ]
     },
     "execution_count": 26,
     "metadata": {},
     "output_type": "execute_result"
    }
   ],
   "source": [
    "# multiply two vector element wise\n",
    "u * v"
   ]
  },
  {
   "cell_type": "code",
   "execution_count": 47,
   "id": "27275899",
   "metadata": {},
   "outputs": [
    {
     "data": {
      "text/plain": [
       "(4,)"
      ]
     },
     "execution_count": 47,
     "metadata": {},
     "output_type": "execute_result"
    }
   ],
   "source": [
    "u.shape"
   ]
  },
  {
   "cell_type": "code",
   "execution_count": 49,
   "id": "af692b18",
   "metadata": {},
   "outputs": [
    {
     "data": {
      "text/plain": [
       "4"
      ]
     },
     "execution_count": 49,
     "metadata": {},
     "output_type": "execute_result"
    }
   ],
   "source": [
    "u.shape[0]"
   ]
  },
  {
   "cell_type": "code",
   "execution_count": 28,
   "id": "856fa340",
   "metadata": {},
   "outputs": [
    {
     "data": {
      "text/plain": [
       "4"
      ]
     },
     "execution_count": 28,
     "metadata": {},
     "output_type": "execute_result"
    }
   ],
   "source": [
    "v.shape[0]"
   ]
  },
  {
   "cell_type": "markdown",
   "id": "839bccdf",
   "metadata": {},
   "source": [
    "# Vector-Vector Multiplication (Dot Product)"
   ]
  },
  {
   "cell_type": "code",
   "execution_count": 40,
   "id": "cbd82bae",
   "metadata": {},
   "outputs": [],
   "source": [
    "# Note (Rules): (u[0]*v[0]) + (u[1]*v[1]) + .... + (u[n]*v[n]) then return a single value not vector\n",
    "\n",
    "def vector_vector_multiplication(u,v):\n",
    "    assert u.shape[0] == v.shape[0]\n",
    "    \n",
    "    n = u.shape[0]\n",
    "    \n",
    "    result = 0.0\n",
    "    \n",
    "    for i in range(n):\n",
    "        result = result + (u[i] * v[i])\n",
    "        \n",
    "    return result"
   ]
  },
  {
   "cell_type": "code",
   "execution_count": 41,
   "id": "3ca2bbd3",
   "metadata": {},
   "outputs": [
    {
     "data": {
      "text/plain": [
       "14.0"
      ]
     },
     "execution_count": 41,
     "metadata": {},
     "output_type": "execute_result"
    }
   ],
   "source": [
    "vector_vector_multiplication(u,v)"
   ]
  },
  {
   "cell_type": "code",
   "execution_count": 37,
   "id": "28fbb9e4",
   "metadata": {},
   "outputs": [
    {
     "data": {
      "text/plain": [
       "14"
      ]
     },
     "execution_count": 37,
     "metadata": {},
     "output_type": "execute_result"
    }
   ],
   "source": [
    "# Have a built in function like same as my custom vector_vector_multiplication() function\n",
    "u.dot(v) "
   ]
  },
  {
   "cell_type": "markdown",
   "id": "5c3d9040",
   "metadata": {},
   "source": [
    "# Matrix-Vector Multiplication"
   ]
  },
  {
   "cell_type": "code",
   "execution_count": 52,
   "id": "5c6f7c3c",
   "metadata": {},
   "outputs": [],
   "source": [
    "U = np.array([\n",
    "    [2,4,5,6],\n",
    "    [1,2,1,2],\n",
    "    [3,1,2,1]\n",
    "])"
   ]
  },
  {
   "cell_type": "code",
   "execution_count": 46,
   "id": "a91f1526",
   "metadata": {},
   "outputs": [
    {
     "data": {
      "text/plain": [
       "(3, 4)"
      ]
     },
     "execution_count": 46,
     "metadata": {},
     "output_type": "execute_result"
    }
   ],
   "source": [
    "U.shape"
   ]
  },
  {
   "cell_type": "code",
   "execution_count": 73,
   "id": "62a487f9",
   "metadata": {},
   "outputs": [],
   "source": [
    "# Note (Rules): \n",
    "# (u[0][0]*v[0]) + (u[0][1]*v[1]) + .... + (u[i][j]*v[n]) then\n",
    "# (u[1][0]*v[0]) + (u[1][1]*v[1]) + .... + (u[i][j]*v[n]) then \n",
    "# return a vector\n",
    "def matrix_vector_multiplication (U, v):\n",
    "    assert U.shape[1] == v.shape[0] # checking column by column\n",
    "    num_rows = U.shape[0] # row counting \n",
    "    result = np.zeros(num_rows)\n",
    "    for i in range(num_rows): # get matrix single row\n",
    "        result[i] = vector_vector_multiplication(U[i],v) # pass matrix single row and vector in existing function which is calculate vector vector multiply \n",
    "    return result"
   ]
  },
  {
   "cell_type": "code",
   "execution_count": 72,
   "id": "86f044f9",
   "metadata": {},
   "outputs": [
    {
     "data": {
      "text/plain": [
       "array([14.,  5.,  5.])"
      ]
     },
     "execution_count": 72,
     "metadata": {},
     "output_type": "execute_result"
    }
   ],
   "source": [
    "matrix_vector_multiplication(U,v)"
   ]
  },
  {
   "cell_type": "code",
   "execution_count": 75,
   "id": "a746c7ef",
   "metadata": {},
   "outputs": [
    {
     "data": {
      "text/plain": [
       "array([14,  5,  5])"
      ]
     },
     "execution_count": 75,
     "metadata": {},
     "output_type": "execute_result"
    }
   ],
   "source": [
    "# Have a built in function like same as my custom matrix_vector_multiplication() function\n",
    "U.dot(v)"
   ]
  },
  {
   "cell_type": "code",
   "execution_count": null,
   "id": "13d6d4b5",
   "metadata": {},
   "outputs": [],
   "source": []
  }
 ],
 "metadata": {
  "kernelspec": {
   "display_name": "Python 3 (ipykernel)",
   "language": "python",
   "name": "python3"
  },
  "language_info": {
   "codemirror_mode": {
    "name": "ipython",
    "version": 3
   },
   "file_extension": ".py",
   "mimetype": "text/x-python",
   "name": "python",
   "nbconvert_exporter": "python",
   "pygments_lexer": "ipython3",
   "version": "3.10.4"
  },
  "varInspector": {
   "cols": {
    "lenName": 16,
    "lenType": 16,
    "lenVar": 40
   },
   "kernels_config": {
    "python": {
     "delete_cmd_postfix": "",
     "delete_cmd_prefix": "del ",
     "library": "var_list.py",
     "varRefreshCmd": "print(var_dic_list())"
    },
    "r": {
     "delete_cmd_postfix": ") ",
     "delete_cmd_prefix": "rm(",
     "library": "var_list.r",
     "varRefreshCmd": "cat(var_dic_list()) "
    }
   },
   "types_to_exclude": [
    "module",
    "function",
    "builtin_function_or_method",
    "instance",
    "_Feature"
   ],
   "window_display": false
  }
 },
 "nbformat": 4,
 "nbformat_minor": 5
}
