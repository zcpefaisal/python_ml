{
 "cells": [
  {
   "cell_type": "code",
   "execution_count": 4,
   "id": "2d7c2029",
   "metadata": {},
   "outputs": [],
   "source": [
    "import numpy as np"
   ]
  },
  {
   "cell_type": "markdown",
   "id": "1048bca8",
   "metadata": {},
   "source": [
    "# Vector Operations"
   ]
  },
  {
   "cell_type": "code",
   "execution_count": 20,
   "id": "6849b14b",
   "metadata": {},
   "outputs": [],
   "source": [
    "u = np.array([2,3,5,6]) # row vector"
   ]
  },
  {
   "cell_type": "code",
   "execution_count": 21,
   "id": "3e952d9b",
   "metadata": {},
   "outputs": [
    {
     "data": {
      "text/plain": [
       "array([2, 3, 5, 6])"
      ]
     },
     "execution_count": 21,
     "metadata": {},
     "output_type": "execute_result"
    }
   ],
   "source": [
    "u"
   ]
  },
  {
   "cell_type": "code",
   "execution_count": 22,
   "id": "2af2b92f",
   "metadata": {},
   "outputs": [],
   "source": [
    "v = np.array([1,0,0,2]) # row vector"
   ]
  },
  {
   "cell_type": "code",
   "execution_count": 23,
   "id": "68a423a7",
   "metadata": {},
   "outputs": [
    {
     "data": {
      "text/plain": [
       "array([1, 0, 0, 2])"
      ]
     },
     "execution_count": 23,
     "metadata": {},
     "output_type": "execute_result"
    }
   ],
   "source": [
    "v"
   ]
  },
  {
   "cell_type": "code",
   "execution_count": 24,
   "id": "20721743",
   "metadata": {},
   "outputs": [
    {
     "data": {
      "text/plain": [
       "array([3, 3, 5, 8])"
      ]
     },
     "execution_count": 24,
     "metadata": {},
     "output_type": "execute_result"
    }
   ],
   "source": [
    "# add two vector element wise\n",
    "u + v"
   ]
  },
  {
   "cell_type": "code",
   "execution_count": 26,
   "id": "44349f57",
   "metadata": {},
   "outputs": [
    {
     "data": {
      "text/plain": [
       "array([ 2,  0,  0, 12])"
      ]
     },
     "execution_count": 26,
     "metadata": {},
     "output_type": "execute_result"
    }
   ],
   "source": [
    "# multiply two vector element wise\n",
    "u * v"
   ]
  },
  {
   "cell_type": "code",
   "execution_count": 47,
   "id": "5977a415",
   "metadata": {},
   "outputs": [
    {
     "data": {
      "text/plain": [
       "(4,)"
      ]
     },
     "execution_count": 47,
     "metadata": {},
     "output_type": "execute_result"
    }
   ],
   "source": [
    "u.shape"
   ]
  },
  {
   "cell_type": "code",
   "execution_count": 49,
   "id": "711fb200",
   "metadata": {},
   "outputs": [
    {
     "data": {
      "text/plain": [
       "4"
      ]
     },
     "execution_count": 49,
     "metadata": {},
     "output_type": "execute_result"
    }
   ],
   "source": [
    "u.shape[0]"
   ]
  },
  {
   "cell_type": "code",
   "execution_count": 28,
   "id": "9b07b16f",
   "metadata": {},
   "outputs": [
    {
     "data": {
      "text/plain": [
       "4"
      ]
     },
     "execution_count": 28,
     "metadata": {},
     "output_type": "execute_result"
    }
   ],
   "source": [
    "v.shape[0]"
   ]
  },
  {
   "cell_type": "markdown",
   "id": "b8774f08",
   "metadata": {},
   "source": [
    "# Vector-Vector Multiplication (Dot Product)"
   ]
  },
  {
   "cell_type": "code",
   "execution_count": 40,
   "id": "79e52804",
   "metadata": {},
   "outputs": [],
   "source": [
    "# Note (Rules): (u[0]*v[0]) + (u[1]*v[1]) + .... + (u[n]*v[n]) then return a single value not vector\n",
    "\n",
    "def vector_vector_multiplication(u,v):\n",
    "    assert u.shape[0] == v.shape[0]\n",
    "    \n",
    "    n = u.shape[0]\n",
    "    \n",
    "    result = 0.0\n",
    "    \n",
    "    for i in range(n):\n",
    "        result = result + (u[i] * v[i])\n",
    "        \n",
    "    return result"
   ]
  },
  {
   "cell_type": "code",
   "execution_count": 41,
   "id": "fdd28a9b",
   "metadata": {},
   "outputs": [
    {
     "data": {
      "text/plain": [
       "14.0"
      ]
     },
     "execution_count": 41,
     "metadata": {},
     "output_type": "execute_result"
    }
   ],
   "source": [
    "vector_vector_multiplication(u,v)"
   ]
  },
  {
   "cell_type": "code",
   "execution_count": 37,
   "id": "d50ec213",
   "metadata": {},
   "outputs": [
    {
     "data": {
      "text/plain": [
       "14"
      ]
     },
     "execution_count": 37,
     "metadata": {},
     "output_type": "execute_result"
    }
   ],
   "source": [
    "# Have a built in function like same as my custom vector_vector_multiplication() function\n",
    "u.dot(v) "
   ]
  },
  {
   "cell_type": "markdown",
   "id": "951bb94f",
   "metadata": {},
   "source": [
    "# Matrix-Vector Multiplication"
   ]
  },
  {
   "cell_type": "code",
   "execution_count": 52,
   "id": "5f71b0e0",
   "metadata": {},
   "outputs": [],
   "source": [
    "U = np.array([\n",
    "    [2,4,5,6],\n",
    "    [1,2,1,2],\n",
    "    [3,1,2,1]\n",
    "])"
   ]
  },
  {
   "cell_type": "code",
   "execution_count": 46,
   "id": "8c5bfc2d",
   "metadata": {},
   "outputs": [
    {
     "data": {
      "text/plain": [
       "(3, 4)"
      ]
     },
     "execution_count": 46,
     "metadata": {},
     "output_type": "execute_result"
    }
   ],
   "source": [
    "U.shape"
   ]
  },
  {
   "cell_type": "code",
   "execution_count": 73,
   "id": "32fe4258",
   "metadata": {},
   "outputs": [],
   "source": [
    "# Note (Rules): \n",
    "# (u[0][0]*v[0]) + (u[0][1]*v[1]) + .... + (u[i][j]*v[n]) then\n",
    "# (u[1][0]*v[0]) + (u[1][1]*v[1]) + .... + (u[i][j]*v[n]) then \n",
    "# return a vector\n",
    "def matrix_vector_multiplication (U, v):\n",
    "    assert U.shape[1] == v.shape[0] # checking column by column\n",
    "    num_rows = U.shape[0] # row counting \n",
    "    result = np.zeros(num_rows)\n",
    "    for i in range(num_rows): # get matrix single row\n",
    "        result[i] = vector_vector_multiplication(U[i],v) # pass matrix single row and vector in existing function which is calculate vector vector multiply \n",
    "    return result"
   ]
  },
  {
   "cell_type": "code",
   "execution_count": 72,
   "id": "f91938be",
   "metadata": {},
   "outputs": [
    {
     "data": {
      "text/plain": [
       "array([14.,  5.,  5.])"
      ]
     },
     "execution_count": 72,
     "metadata": {},
     "output_type": "execute_result"
    }
   ],
   "source": [
    "matrix_vector_multiplication(U,v)"
   ]
  },
  {
   "cell_type": "code",
   "execution_count": 75,
   "id": "54feaa93",
   "metadata": {},
   "outputs": [
    {
     "data": {
      "text/plain": [
       "array([14,  5,  5])"
      ]
     },
     "execution_count": 75,
     "metadata": {},
     "output_type": "execute_result"
    }
   ],
   "source": [
    "# Have a built in function like same as my custom matrix_vector_multiplication() function\n",
    "U.dot(v)"
   ]
  },
  {
   "cell_type": "markdown",
   "id": "a5bcadcd",
   "metadata": {},
   "source": [
    "# Matrix-Matrix Multiplication"
   ]
  },
  {
   "cell_type": "code",
   "execution_count": 79,
   "id": "09a7e308",
   "metadata": {},
   "outputs": [],
   "source": [
    "# column base vector\n",
    "V = np.array([\n",
    "    [1,1,0],\n",
    "    [0,.5,1],\n",
    "    [0,2,0],\n",
    "    [2,1,3]\n",
    "])"
   ]
  },
  {
   "cell_type": "code",
   "execution_count": 80,
   "id": "401d7f26",
   "metadata": {},
   "outputs": [
    {
     "data": {
      "text/plain": [
       "(4, 3)"
      ]
     },
     "execution_count": 80,
     "metadata": {},
     "output_type": "execute_result"
    }
   ],
   "source": [
    "V.shape"
   ]
  },
  {
   "cell_type": "code",
   "execution_count": 84,
   "id": "cd81785d",
   "metadata": {},
   "outputs": [],
   "source": [
    "# Note (Rules): \n",
    "# (u[0][0]*v[0][0]) + (u[0][1]*v[0][1]) + .... + (u[i][j]*v[m][n]) then\n",
    "# (u[1][0]*v[0][0]) + (u[1][1]*v[1][1]) + .... + (u[i][j]*v[m][n]) then \n",
    "# return a matrix\n",
    "def matrix_matrix_multiplication(U,V):\n",
    "    assert U.shape[1] == V.shape[0]\n",
    "    \n",
    "    num_rows = U.shape[0]\n",
    "    num_cols = V.shape[1]\n",
    "    \n",
    "    result = np.zeros((num_rows, num_cols))\n",
    "    \n",
    "    for i in range(num_cols):\n",
    "        vi = V[:, i] # get column base vector form V matrix when i=0 vector=[1, 0, 0, 2], i=2 vector=[1, .5, 2, 1] and so on...        \n",
    "        Uvi = matrix_vector_multiplication(U,vi) # pass full matrix and vector single column in existing function which is calculate matrix vector multiply \n",
    "        result[:, i] = Uvi \n",
    "    return result"
   ]
  },
  {
   "cell_type": "code",
   "execution_count": 85,
   "id": "9466fae2",
   "metadata": {},
   "outputs": [
    {
     "data": {
      "text/plain": [
       "array([[14. , 20. , 22. ],\n",
       "       [ 5. ,  6. ,  8. ],\n",
       "       [ 5. ,  8.5,  4. ]])"
      ]
     },
     "execution_count": 85,
     "metadata": {},
     "output_type": "execute_result"
    }
   ],
   "source": [
    "matrix_matrix_multiplication(U,V)"
   ]
  },
  {
   "cell_type": "code",
   "execution_count": 86,
   "id": "aacf14ac",
   "metadata": {},
   "outputs": [
    {
     "data": {
      "text/plain": [
       "array([[14. , 20. , 22. ],\n",
       "       [ 5. ,  6. ,  8. ],\n",
       "       [ 5. ,  8.5,  4. ]])"
      ]
     },
     "execution_count": 86,
     "metadata": {},
     "output_type": "execute_result"
    }
   ],
   "source": [
    "# Have a built in function like same as my custom matrix_matrix_multiplication() function\n",
    "\n",
    "U.dot(V)"
   ]
  },
  {
   "cell_type": "code",
   "execution_count": null,
   "id": "b0279320",
   "metadata": {},
   "outputs": [],
   "source": []
  }
 ],
 "metadata": {
  "kernelspec": {
   "display_name": "Python 3 (ipykernel)",
   "language": "python",
   "name": "python3"
  },
  "language_info": {
   "codemirror_mode": {
    "name": "ipython",
    "version": 3
   },
   "file_extension": ".py",
   "mimetype": "text/x-python",
   "name": "python",
   "nbconvert_exporter": "python",
   "pygments_lexer": "ipython3",
   "version": "3.10.4"
  },
  "varInspector": {
   "cols": {
    "lenName": 16,
    "lenType": 16,
    "lenVar": 40
   },
   "kernels_config": {
    "python": {
     "delete_cmd_postfix": "",
     "delete_cmd_prefix": "del ",
     "library": "var_list.py",
     "varRefreshCmd": "print(var_dic_list())"
    },
    "r": {
     "delete_cmd_postfix": ") ",
     "delete_cmd_prefix": "rm(",
     "library": "var_list.r",
     "varRefreshCmd": "cat(var_dic_list()) "
    }
   },
   "types_to_exclude": [
    "module",
    "function",
    "builtin_function_or_method",
    "instance",
    "_Feature"
   ],
   "window_display": false
  }
 },
 "nbformat": 4,
 "nbformat_minor": 5
}
