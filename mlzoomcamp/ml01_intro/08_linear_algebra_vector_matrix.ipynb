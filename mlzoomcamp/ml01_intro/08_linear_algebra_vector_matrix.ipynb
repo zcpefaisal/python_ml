{
 "cells": [
  {
   "cell_type": "code",
   "execution_count": 4,
   "id": "1b64bab7",
   "metadata": {},
   "outputs": [],
   "source": [
    "import numpy as np"
   ]
  },
  {
   "cell_type": "markdown",
   "id": "b4afb76e",
   "metadata": {},
   "source": [
    "# Vector Operations"
   ]
  },
  {
   "cell_type": "code",
   "execution_count": 20,
   "id": "3223a894",
   "metadata": {},
   "outputs": [],
   "source": [
    "u = np.array([2,3,5,6]) # row vector"
   ]
  },
  {
   "cell_type": "code",
   "execution_count": 21,
   "id": "34decca9",
   "metadata": {},
   "outputs": [
    {
     "data": {
      "text/plain": [
       "array([2, 3, 5, 6])"
      ]
     },
     "execution_count": 21,
     "metadata": {},
     "output_type": "execute_result"
    }
   ],
   "source": [
    "u"
   ]
  },
  {
   "cell_type": "code",
   "execution_count": 22,
   "id": "bc522982",
   "metadata": {},
   "outputs": [],
   "source": [
    "v = np.array([1,0,0,2]) # row vector"
   ]
  },
  {
   "cell_type": "code",
   "execution_count": 23,
   "id": "398aeb07",
   "metadata": {},
   "outputs": [
    {
     "data": {
      "text/plain": [
       "array([1, 0, 0, 2])"
      ]
     },
     "execution_count": 23,
     "metadata": {},
     "output_type": "execute_result"
    }
   ],
   "source": [
    "v"
   ]
  },
  {
   "cell_type": "code",
   "execution_count": 24,
   "id": "7b77555a",
   "metadata": {},
   "outputs": [
    {
     "data": {
      "text/plain": [
       "array([3, 3, 5, 8])"
      ]
     },
     "execution_count": 24,
     "metadata": {},
     "output_type": "execute_result"
    }
   ],
   "source": [
    "# add two vector element wise\n",
    "u + v"
   ]
  },
  {
   "cell_type": "code",
   "execution_count": 26,
   "id": "bfffb1d7",
   "metadata": {},
   "outputs": [
    {
     "data": {
      "text/plain": [
       "array([ 2,  0,  0, 12])"
      ]
     },
     "execution_count": 26,
     "metadata": {},
     "output_type": "execute_result"
    }
   ],
   "source": [
    "# multiply two vector element wise\n",
    "u * v"
   ]
  },
  {
   "cell_type": "code",
   "execution_count": 47,
   "id": "32b962fd",
   "metadata": {},
   "outputs": [
    {
     "data": {
      "text/plain": [
       "(4,)"
      ]
     },
     "execution_count": 47,
     "metadata": {},
     "output_type": "execute_result"
    }
   ],
   "source": [
    "u.shape"
   ]
  },
  {
   "cell_type": "code",
   "execution_count": 49,
   "id": "e8b9042b",
   "metadata": {},
   "outputs": [
    {
     "data": {
      "text/plain": [
       "4"
      ]
     },
     "execution_count": 49,
     "metadata": {},
     "output_type": "execute_result"
    }
   ],
   "source": [
    "u.shape[0]"
   ]
  },
  {
   "cell_type": "code",
   "execution_count": 28,
   "id": "950b15b0",
   "metadata": {},
   "outputs": [
    {
     "data": {
      "text/plain": [
       "4"
      ]
     },
     "execution_count": 28,
     "metadata": {},
     "output_type": "execute_result"
    }
   ],
   "source": [
    "v.shape[0]"
   ]
  },
  {
   "cell_type": "markdown",
   "id": "65f8d0af",
   "metadata": {},
   "source": [
    "# Vector-Vector Multiplication (Dot Product)"
   ]
  },
  {
   "cell_type": "code",
   "execution_count": 40,
   "id": "b7093ed7",
   "metadata": {},
   "outputs": [],
   "source": [
    "# Note (Rules): (u[0]*v[0]) + (u[1]*v[1]) + .... + (u[n]*v[n]) then return a single value not vector\n",
    "\n",
    "def vector_vector_multiplication(u,v):\n",
    "    assert u.shape[0] == v.shape[0]\n",
    "    \n",
    "    n = u.shape[0]\n",
    "    \n",
    "    result = 0.0\n",
    "    \n",
    "    for i in range(n):\n",
    "        result = result + (u[i] * v[i])\n",
    "        \n",
    "    return result"
   ]
  },
  {
   "cell_type": "code",
   "execution_count": 41,
   "id": "1ac718e5",
   "metadata": {},
   "outputs": [
    {
     "data": {
      "text/plain": [
       "14.0"
      ]
     },
     "execution_count": 41,
     "metadata": {},
     "output_type": "execute_result"
    }
   ],
   "source": [
    "vector_vector_multiplication(u,v)"
   ]
  },
  {
   "cell_type": "code",
   "execution_count": 37,
   "id": "550fafbc",
   "metadata": {},
   "outputs": [
    {
     "data": {
      "text/plain": [
       "14"
      ]
     },
     "execution_count": 37,
     "metadata": {},
     "output_type": "execute_result"
    }
   ],
   "source": [
    "# Have a built in function like same as my custom vector_vector_multiplication() function\n",
    "u.dot(v) "
   ]
  },
  {
   "cell_type": "markdown",
   "id": "a2ef69c9",
   "metadata": {},
   "source": [
    "# Matrix-Vector Multiplication"
   ]
  },
  {
   "cell_type": "code",
   "execution_count": 52,
   "id": "0cbf8cf3",
   "metadata": {},
   "outputs": [],
   "source": [
    "U = np.array([\n",
    "    [2,4,5,6],\n",
    "    [1,2,1,2],\n",
    "    [3,1,2,1]\n",
    "])"
   ]
  },
  {
   "cell_type": "code",
   "execution_count": 46,
   "id": "063fcc27",
   "metadata": {},
   "outputs": [
    {
     "data": {
      "text/plain": [
       "(3, 4)"
      ]
     },
     "execution_count": 46,
     "metadata": {},
     "output_type": "execute_result"
    }
   ],
   "source": [
    "U.shape"
   ]
  },
  {
   "cell_type": "code",
   "execution_count": 73,
   "id": "130dd0aa",
   "metadata": {},
   "outputs": [],
   "source": [
    "# Note (Rules): \n",
    "# (u[0][0]*v[0]) + (u[0][1]*v[1]) + .... + (u[i][j]*v[n]) then\n",
    "# (u[1][0]*v[0]) + (u[1][1]*v[1]) + .... + (u[i][j]*v[n]) then \n",
    "# return a vector\n",
    "def matrix_vector_multiplication (U, v):\n",
    "    assert U.shape[1] == v.shape[0] # checking column by column\n",
    "    num_rows = U.shape[0] # row counting \n",
    "    result = np.zeros(num_rows)\n",
    "    for i in range(num_rows): # get matrix single row\n",
    "        result[i] = vector_vector_multiplication(U[i],v) # pass matrix single row and vector in existing function which is calculate vector vector multiply \n",
    "    return result"
   ]
  },
  {
   "cell_type": "code",
   "execution_count": 72,
   "id": "3920f5b3",
   "metadata": {},
   "outputs": [
    {
     "data": {
      "text/plain": [
       "array([14.,  5.,  5.])"
      ]
     },
     "execution_count": 72,
     "metadata": {},
     "output_type": "execute_result"
    }
   ],
   "source": [
    "matrix_vector_multiplication(U,v)"
   ]
  },
  {
   "cell_type": "code",
   "execution_count": 75,
   "id": "cbd8a11f",
   "metadata": {},
   "outputs": [
    {
     "data": {
      "text/plain": [
       "array([14,  5,  5])"
      ]
     },
     "execution_count": 75,
     "metadata": {},
     "output_type": "execute_result"
    }
   ],
   "source": [
    "# Have a built in function like same as my custom matrix_vector_multiplication() function\n",
    "U.dot(v)"
   ]
  },
  {
   "cell_type": "markdown",
   "id": "926d24ce",
   "metadata": {},
   "source": [
    "# Matrix-Matrix Multiplication"
   ]
  },
  {
   "cell_type": "code",
   "execution_count": 79,
   "id": "f3d43499",
   "metadata": {},
   "outputs": [],
   "source": [
    "# column base vector\n",
    "V = np.array([\n",
    "    [1,1,0],\n",
    "    [0,.5,1],\n",
    "    [0,2,0],\n",
    "    [2,1,3]\n",
    "])"
   ]
  },
  {
   "cell_type": "code",
   "execution_count": 80,
   "id": "e0040117",
   "metadata": {},
   "outputs": [
    {
     "data": {
      "text/plain": [
       "(4, 3)"
      ]
     },
     "execution_count": 80,
     "metadata": {},
     "output_type": "execute_result"
    }
   ],
   "source": [
    "V.shape"
   ]
  },
  {
   "cell_type": "code",
   "execution_count": 84,
   "id": "04870a03",
   "metadata": {},
   "outputs": [],
   "source": [
    "# Note (Rules): \n",
    "# (u[0][0]*v[0][0]) + (u[0][1]*v[0][1]) + .... + (u[i][j]*v[m][n]) then\n",
    "# (u[1][0]*v[0][0]) + (u[1][1]*v[1][1]) + .... + (u[i][j]*v[m][n]) then \n",
    "# return a matrix\n",
    "def matrix_matrix_multiplication(U,V):\n",
    "    assert U.shape[1] == V.shape[0]\n",
    "    \n",
    "    num_rows = U.shape[0]\n",
    "    num_cols = V.shape[1]\n",
    "    \n",
    "    result = np.zeros((num_rows, num_cols))\n",
    "    \n",
    "    for i in range(num_cols):\n",
    "        vi = V[:, i] # get column base vector form V matrix when i=0 vector=[1, 0, 0, 2], i=2 vector=[1, .5, 2, 1] and so on...        \n",
    "        Uvi = matrix_vector_multiplication(U,vi) # pass full matrix and vector single column in existing function which is calculate matrix vector multiply \n",
    "        result[:, i] = Uvi \n",
    "    return result"
   ]
  },
  {
   "cell_type": "code",
   "execution_count": 85,
   "id": "43450b26",
   "metadata": {},
   "outputs": [
    {
     "data": {
      "text/plain": [
       "array([[14. , 20. , 22. ],\n",
       "       [ 5. ,  6. ,  8. ],\n",
       "       [ 5. ,  8.5,  4. ]])"
      ]
     },
     "execution_count": 85,
     "metadata": {},
     "output_type": "execute_result"
    }
   ],
   "source": [
    "matrix_matrix_multiplication(U,V)"
   ]
  },
  {
   "cell_type": "code",
   "execution_count": 86,
   "id": "1e0f28aa",
   "metadata": {},
   "outputs": [
    {
     "data": {
      "text/plain": [
       "array([[14. , 20. , 22. ],\n",
       "       [ 5. ,  6. ,  8. ],\n",
       "       [ 5. ,  8.5,  4. ]])"
      ]
     },
     "execution_count": 86,
     "metadata": {},
     "output_type": "execute_result"
    }
   ],
   "source": [
    "# Have a built in function like same as my custom matrix_matrix_multiplication() function\n",
    "\n",
    "U.dot(V)"
   ]
  },
  {
   "cell_type": "markdown",
   "id": "50e4c50d",
   "metadata": {},
   "source": [
    "# Identity Matrix"
   ]
  },
  {
   "cell_type": "code",
   "execution_count": 87,
   "id": "e1888399",
   "metadata": {},
   "outputs": [],
   "source": [
    "I = np.eye(3)"
   ]
  },
  {
   "cell_type": "code",
   "execution_count": 88,
   "id": "c3a3a47f",
   "metadata": {},
   "outputs": [
    {
     "data": {
      "text/plain": [
       "array([[1., 0., 0.],\n",
       "       [0., 1., 0.],\n",
       "       [0., 0., 1.]])"
      ]
     },
     "execution_count": 88,
     "metadata": {},
     "output_type": "execute_result"
    }
   ],
   "source": [
    "I"
   ]
  },
  {
   "cell_type": "code",
   "execution_count": 89,
   "id": "d3cee19f",
   "metadata": {},
   "outputs": [
    {
     "data": {
      "text/plain": [
       "array([[1. , 1. , 0. ],\n",
       "       [0. , 0.5, 1. ],\n",
       "       [0. , 2. , 0. ],\n",
       "       [2. , 1. , 3. ]])"
      ]
     },
     "execution_count": 89,
     "metadata": {},
     "output_type": "execute_result"
    }
   ],
   "source": [
    "V"
   ]
  },
  {
   "cell_type": "code",
   "execution_count": 90,
   "id": "6d3963a5",
   "metadata": {},
   "outputs": [
    {
     "data": {
      "text/plain": [
       "array([[1. , 1. , 0. ],\n",
       "       [0. , 0.5, 1. ],\n",
       "       [0. , 2. , 0. ],\n",
       "       [2. , 1. , 3. ]])"
      ]
     },
     "execution_count": 90,
     "metadata": {},
     "output_type": "execute_result"
    }
   ],
   "source": [
    "V.dot(I)"
   ]
  },
  {
   "cell_type": "code",
   "execution_count": 92,
   "id": "8f0a51d6",
   "metadata": {},
   "outputs": [
    {
     "data": {
      "text/plain": [
       "[[0, 1, 2]]"
      ]
     },
     "execution_count": 92,
     "metadata": {},
     "output_type": "execute_result"
    }
   ],
   "source": [
    "Vs = [[0,1,2]]\n",
    "Vs"
   ]
  },
  {
   "cell_type": "code",
   "execution_count": null,
   "id": "2e037e40",
   "metadata": {},
   "outputs": [],
   "source": [
    "np.li"
   ]
  }
 ],
 "metadata": {
  "kernelspec": {
   "display_name": "Python 3 (ipykernel)",
   "language": "python",
   "name": "python3"
  },
  "language_info": {
   "codemirror_mode": {
    "name": "ipython",
    "version": 3
   },
   "file_extension": ".py",
   "mimetype": "text/x-python",
   "name": "python",
   "nbconvert_exporter": "python",
   "pygments_lexer": "ipython3",
   "version": "3.10.4"
  },
  "varInspector": {
   "cols": {
    "lenName": 16,
    "lenType": 16,
    "lenVar": 40
   },
   "kernels_config": {
    "python": {
     "delete_cmd_postfix": "",
     "delete_cmd_prefix": "del ",
     "library": "var_list.py",
     "varRefreshCmd": "print(var_dic_list())"
    },
    "r": {
     "delete_cmd_postfix": ") ",
     "delete_cmd_prefix": "rm(",
     "library": "var_list.r",
     "varRefreshCmd": "cat(var_dic_list()) "
    }
   },
   "types_to_exclude": [
    "module",
    "function",
    "builtin_function_or_method",
    "instance",
    "_Feature"
   ],
   "window_display": false
  }
 },
 "nbformat": 4,
 "nbformat_minor": 5
}
